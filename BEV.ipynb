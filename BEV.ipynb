{
 "cells": [
  {
   "cell_type": "code",
   "execution_count": 79,
   "id": "872b3f62",
   "metadata": {},
   "outputs": [],
   "source": [
    "import numpy as np\n",
    "import matplotlib.pyplot as plt \n",
    "import os\n",
    "import open3d as o3d \n",
    "import cv2\n"
   ]
  },
  {
   "cell_type": "code",
   "execution_count": 5,
   "id": "78b25238",
   "metadata": {},
   "outputs": [
    {
     "name": "stdout",
     "output_type": "stream",
     "text": [
      "/home/parvez/Data/training/1670409099.721037865.pcd\n"
     ]
    }
   ],
   "source": [
    "path = os.path.join(os.getcwd(), 'Data/training/1670409099.721037865.pcd')\n",
    "print(path)"
   ]
  },
  {
   "cell_type": "code",
   "execution_count": 11,
   "id": "c5dae203",
   "metadata": {},
   "outputs": [],
   "source": [
    "points = np.asarray(o3d.io.read_point_cloud(path).points)\n"
   ]
  },
  {
   "cell_type": "code",
   "execution_count": 12,
   "id": "1ac9089d",
   "metadata": {},
   "outputs": [],
   "source": [
    "side_range=(-10, 10)     # left-most to right-most\n",
    "fwd_range=(0, 20)       # back-most to forward-most"
   ]
  },
  {
   "cell_type": "code",
   "execution_count": 15,
   "id": "5f011869",
   "metadata": {},
   "outputs": [],
   "source": [
    "# EXTRACT THE POINTS FOR EACH AXIS\n",
    "x_points = points[:, 0]\n",
    "y_points = points[:, 1]\n",
    "z_points = points[:, 2]\n",
    "\n",
    "# FILTER - To return only indices of points within desired cube\n",
    "# Three filters for: Front-to-back, side-to-side, and height ranges\n",
    "# Note left side is positive y axis in LIDAR coordinates\n",
    "f_filt = np.logical_and((x_points > fwd_range[0]), (x_points < fwd_range[1]))\n",
    "s_filt = np.logical_and((y_points > -side_range[1]), (y_points < -side_range[0]))\n",
    "filter = np.logical_and(f_filt, s_filt)\n",
    "indices = np.argwhere(filter).flatten()\n",
    "# KEEPERS\n",
    "x_points = x_points[indices]\n",
    "y_points = y_points[indices]\n",
    "z_points = z_points[indices]\n"
   ]
  },
  {
   "cell_type": "code",
   "execution_count": 16,
   "id": "9bc9a29c",
   "metadata": {},
   "outputs": [],
   "source": [
    "res = 0.05\n",
    "# CONVERT TO PIXEL POSITION VALUES - Based on resolution\n",
    "x_img = (-y_points / res).astype(np.int32)  # x axis is -y in LIDAR\n",
    "y_img = (-x_points / res).astype(np.int32)  # y axis is -x in LIDAR"
   ]
  },
  {
   "cell_type": "code",
   "execution_count": null,
   "id": "112bdd2e",
   "metadata": {},
   "outputs": [],
   "source": []
  },
  {
   "cell_type": "code",
   "execution_count": 32,
   "id": "228e8424",
   "metadata": {},
   "outputs": [],
   "source": [
    "x_img -= int(np.floor(side_range[0] / res))\n",
    "y_img += int(np.ceil(fwd_range[1] / res))"
   ]
  },
  {
   "cell_type": "code",
   "execution_count": 39,
   "id": "678c9e7a",
   "metadata": {},
   "outputs": [],
   "source": [
    "height_range = (-2, 0.5)  # bottom-most to upper-most\n",
    "# CLIP HEIGHT VALUES - to between min and max heights\n",
    "pixel_values = np.clip(a = z_points,\n",
    "                           a_min=height_range[0],\n",
    "                           a_max=height_range[1])\n"
   ]
  },
  {
   "cell_type": "code",
   "execution_count": 41,
   "id": "33c107f1",
   "metadata": {},
   "outputs": [],
   "source": [
    "def scale_to_255(a, min, max, dtype=np.uint8):\n",
    "    \"\"\" Scales an array of values from specified min, max range to 0-255\n",
    "        Optionally specify the data type of the output (default is uint8)\n",
    "    \"\"\"\n",
    "    return (((a - min) / float(max - min)) * 255).astype(dtype)\n",
    "\n",
    "# RESCALE THE HEIGHT VALUES - to be between the range 0-255\n",
    "pixel_values  = scale_to_255(pixel_values, min=height_range[0], max=height_range[1])"
   ]
  },
  {
   "cell_type": "code",
   "execution_count": 76,
   "id": "8e84b9f0",
   "metadata": {},
   "outputs": [],
   "source": [
    "im = np.zeros((y_img.max()+1, x_img.max()+1), dtype=np.uint8)"
   ]
  },
  {
   "cell_type": "code",
   "execution_count": 77,
   "id": "2a7dbbbb",
   "metadata": {},
   "outputs": [],
   "source": [
    "for i in range(len(x_img)):\n",
    "    a = y_img[i]\n",
    "    b = x_img[i]\n",
    "    im[a][b] = pixel_values[i]\n",
    "    "
   ]
  },
  {
   "cell_type": "code",
   "execution_count": 82,
   "id": "ccfab5ad",
   "metadata": {},
   "outputs": [],
   "source": [
    " # CONVERT FROM NUMPY ARRAY TO A PIL IMAGE\n",
    "from PIL import Image\n",
    "im2 = Image.fromarray(im)\n",
    "im2.show()   "
   ]
  },
  {
   "cell_type": "code",
   "execution_count": 88,
   "id": "5aa5166e",
   "metadata": {},
   "outputs": [
    {
     "data": {
      "image/png": "[encoded data removed]",
      "text/plain": [
       "<Figure size 432x288 with 1 Axes>"
      ]
     },
     "metadata": {
      "needs_background": "light"
     },
     "output_type": "display_data"
    }
   ],
   "source": [
    "import matplotlib.pyplot as plt\n",
    "plt.imshow(im, cmap=\"nipy_spectral\", vmin=0, vmax=255)\n",
    "plt.show()"
   ]
  },
  {
   "cell_type": "code",
   "execution_count": null,
   "id": "c1cee2ea",
   "metadata": {},
   "outputs": [],
   "source": []
  },
  {
   "cell_type": "code",
   "execution_count": null,
   "id": "b7d08602",
   "metadata": {},
   "outputs": [],
   "source": []
  }
 ],
 "metadata": {
  "kernelspec": {
   "display_name": "Python 3 (ipykernel)",
   "language": "python",
   "name": "python3"
  },
  "language_info": {
   "codemirror_mode": {
    "name": "ipython",
    "version": 3
   },
   "file_extension": ".py",
   "mimetype": "text/x-python",
   "name": "python",
   "nbconvert_exporter": "python",
   "pygments_lexer": "ipython3",
   "version": "3.8.10"
  }
 },
 "nbformat": 4,
 "nbformat_minor": 5
}
